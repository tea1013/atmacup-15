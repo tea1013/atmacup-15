{
 "cells": [
  {
   "cell_type": "code",
   "execution_count": 1,
   "metadata": {},
   "outputs": [],
   "source": [
    "import numpy as np\n",
    "import pandas as pd\n",
    "\n",
    "from sklearn.model_selection import KFold, GroupKFold\n",
    "\n",
    "from ocha.dataset.cross_validator import CrossValidator\n",
    "from ocha.config.version import Version\n",
    "from ocha.config.config import GlobalConfig\n",
    "from ocha.common.notification import Stdout\n",
    "from ocha.common.logger import StdoutLogger, FileLogger\n",
    "\n",
    "from module.context import Atmacup15Context\n",
    "from module.preprocess import Atmacup15Preprocess\n",
    "from module.metrics import RMSE\n",
    "from module.lgb.experiment import Atmacup15Experiment, Atmacup15ExperimentConfig\n",
    "from module.dataset import Atmacup15Dataset"
   ]
  },
  {
   "cell_type": "markdown",
   "metadata": {},
   "source": [
    "# Config"
   ]
  },
  {
   "cell_type": "code",
   "execution_count": 2,
   "metadata": {},
   "outputs": [
    {
     "name": "stdout",
     "output_type": "stream",
     "text": [
      "Experiment [v1] Start.\n"
     ]
    }
   ],
   "source": [
    "conf = GlobalConfig(\n",
    "    version=Version(1),\n",
    "    logger=StdoutLogger(),\n",
    "    file_logger=FileLogger(\"v1\"),\n",
    "    notification=Stdout(),\n",
    "    n_fold=5,\n",
    "    seed=1013,\n",
    "    optimize=False,\n",
    "    debug=False,\n",
    "    is_local=True,\n",
    "    remake=False\n",
    ")"
   ]
  },
  {
   "cell_type": "markdown",
   "metadata": {},
   "source": [
    "# Load Data"
   ]
  },
  {
   "cell_type": "code",
   "execution_count": 3,
   "metadata": {},
   "outputs": [],
   "source": [
    "train = pd.read_csv(\"../../input/train.csv\")\n",
    "test = pd.read_csv(\"../../input/test.csv\")\n",
    "anime = pd.read_csv(\"../../input/anime.csv\")"
   ]
  },
  {
   "cell_type": "code",
   "execution_count": 4,
   "metadata": {},
   "outputs": [],
   "source": [
    "sample_submission = pd.read_csv(\"../../input/sample_submission.csv\")"
   ]
  },
  {
   "cell_type": "code",
   "execution_count": 5,
   "metadata": {},
   "outputs": [
    {
     "data": {
      "text/html": [
       "<div>\n",
       "<style scoped>\n",
       "    .dataframe tbody tr th:only-of-type {\n",
       "        vertical-align: middle;\n",
       "    }\n",
       "\n",
       "    .dataframe tbody tr th {\n",
       "        vertical-align: top;\n",
       "    }\n",
       "\n",
       "    .dataframe thead th {\n",
       "        text-align: right;\n",
       "    }\n",
       "</style>\n",
       "<table border=\"1\" class=\"dataframe\">\n",
       "  <thead>\n",
       "    <tr style=\"text-align: right;\">\n",
       "      <th></th>\n",
       "      <th>score</th>\n",
       "    </tr>\n",
       "  </thead>\n",
       "  <tbody>\n",
       "    <tr>\n",
       "      <th>0</th>\n",
       "      <td>6.478691</td>\n",
       "    </tr>\n",
       "    <tr>\n",
       "      <th>1</th>\n",
       "      <td>2.513589</td>\n",
       "    </tr>\n",
       "    <tr>\n",
       "      <th>2</th>\n",
       "      <td>2.212736</td>\n",
       "    </tr>\n",
       "    <tr>\n",
       "      <th>3</th>\n",
       "      <td>6.608664</td>\n",
       "    </tr>\n",
       "    <tr>\n",
       "      <th>4</th>\n",
       "      <td>6.339157</td>\n",
       "    </tr>\n",
       "  </tbody>\n",
       "</table>\n",
       "</div>"
      ],
      "text/plain": [
       "      score\n",
       "0  6.478691\n",
       "1  2.513589\n",
       "2  2.212736\n",
       "3  6.608664\n",
       "4  6.339157"
      ]
     },
     "execution_count": 5,
     "metadata": {},
     "output_type": "execute_result"
    }
   ],
   "source": [
    "sample_submission.head()"
   ]
  },
  {
   "cell_type": "code",
   "execution_count": 6,
   "metadata": {},
   "outputs": [],
   "source": [
    "test[\"score\"] = 0\n",
    "train_test = pd.concat([train, test], axis=0).reset_index(drop=True)"
   ]
  },
  {
   "cell_type": "code",
   "execution_count": 7,
   "metadata": {},
   "outputs": [],
   "source": [
    "train_test_anime = train_test.merge(anime, on=\"anime_id\", how=\"left\").reset_index(drop=True)"
   ]
  },
  {
   "cell_type": "code",
   "execution_count": 8,
   "metadata": {},
   "outputs": [],
   "source": [
    "sample_oof = pd.DataFrame()\n",
    "sample_oof[[\"user_id\", \"anime_id\", \"score\"]] = train_test_anime.iloc[:len(train)][[\"user_id\", \"anime_id\", \"score\"]]"
   ]
  },
  {
   "cell_type": "code",
   "execution_count": 9,
   "metadata": {},
   "outputs": [
    {
     "data": {
      "text/html": [
       "<div>\n",
       "<style scoped>\n",
       "    .dataframe tbody tr th:only-of-type {\n",
       "        vertical-align: middle;\n",
       "    }\n",
       "\n",
       "    .dataframe tbody tr th {\n",
       "        vertical-align: top;\n",
       "    }\n",
       "\n",
       "    .dataframe thead th {\n",
       "        text-align: right;\n",
       "    }\n",
       "</style>\n",
       "<table border=\"1\" class=\"dataframe\">\n",
       "  <thead>\n",
       "    <tr style=\"text-align: right;\">\n",
       "      <th></th>\n",
       "      <th>user_id</th>\n",
       "      <th>anime_id</th>\n",
       "      <th>score</th>\n",
       "    </tr>\n",
       "  </thead>\n",
       "  <tbody>\n",
       "    <tr>\n",
       "      <th>0</th>\n",
       "      <td>0008e10fb39e55447333</td>\n",
       "      <td>0669cc0219d468761195</td>\n",
       "      <td>2</td>\n",
       "    </tr>\n",
       "    <tr>\n",
       "      <th>1</th>\n",
       "      <td>0008e10fb39e55447333</td>\n",
       "      <td>111adb8835b8a1a2cf54</td>\n",
       "      <td>10</td>\n",
       "    </tr>\n",
       "    <tr>\n",
       "      <th>2</th>\n",
       "      <td>0008e10fb39e55447333</td>\n",
       "      <td>1fc8683c393432a2f9c7</td>\n",
       "      <td>1</td>\n",
       "    </tr>\n",
       "    <tr>\n",
       "      <th>3</th>\n",
       "      <td>0008e10fb39e55447333</td>\n",
       "      <td>2290175205d55e81b197</td>\n",
       "      <td>8</td>\n",
       "    </tr>\n",
       "    <tr>\n",
       "      <th>4</th>\n",
       "      <td>0008e10fb39e55447333</td>\n",
       "      <td>28f173b60331d5cabb0d</td>\n",
       "      <td>9</td>\n",
       "    </tr>\n",
       "  </tbody>\n",
       "</table>\n",
       "</div>"
      ],
      "text/plain": [
       "                user_id              anime_id  score\n",
       "0  0008e10fb39e55447333  0669cc0219d468761195      2\n",
       "1  0008e10fb39e55447333  111adb8835b8a1a2cf54     10\n",
       "2  0008e10fb39e55447333  1fc8683c393432a2f9c7      1\n",
       "3  0008e10fb39e55447333  2290175205d55e81b197      8\n",
       "4  0008e10fb39e55447333  28f173b60331d5cabb0d      9"
      ]
     },
     "execution_count": 9,
     "metadata": {},
     "output_type": "execute_result"
    }
   ],
   "source": [
    "sample_oof.head()"
   ]
  },
  {
   "cell_type": "markdown",
   "metadata": {},
   "source": [
    "# Preprocess"
   ]
  },
  {
   "cell_type": "code",
   "execution_count": 10,
   "metadata": {},
   "outputs": [
    {
     "data": {
      "text/html": [
       "<div>\n",
       "<style scoped>\n",
       "    .dataframe tbody tr th:only-of-type {\n",
       "        vertical-align: middle;\n",
       "    }\n",
       "\n",
       "    .dataframe tbody tr th {\n",
       "        vertical-align: top;\n",
       "    }\n",
       "\n",
       "    .dataframe thead th {\n",
       "        text-align: right;\n",
       "    }\n",
       "</style>\n",
       "<table border=\"1\" class=\"dataframe\">\n",
       "  <thead>\n",
       "    <tr style=\"text-align: right;\">\n",
       "      <th></th>\n",
       "      <th>user_id</th>\n",
       "      <th>anime_id</th>\n",
       "      <th>score</th>\n",
       "      <th>genres</th>\n",
       "      <th>japanese_name</th>\n",
       "      <th>type</th>\n",
       "      <th>episodes</th>\n",
       "      <th>aired</th>\n",
       "      <th>producers</th>\n",
       "      <th>licensors</th>\n",
       "      <th>...</th>\n",
       "      <th>user_ip_h_118</th>\n",
       "      <th>user_ip_h_119</th>\n",
       "      <th>user_ip_h_120</th>\n",
       "      <th>user_ip_h_121</th>\n",
       "      <th>user_ip_h_122</th>\n",
       "      <th>user_ip_h_123</th>\n",
       "      <th>user_ip_h_124</th>\n",
       "      <th>user_ip_h_125</th>\n",
       "      <th>user_ip_h_126</th>\n",
       "      <th>user_ip_h_127</th>\n",
       "    </tr>\n",
       "  </thead>\n",
       "  <tbody>\n",
       "    <tr>\n",
       "      <th>0</th>\n",
       "      <td>0008e10fb39e55447333</td>\n",
       "      <td>0669cc0219d468761195</td>\n",
       "      <td>2</td>\n",
       "      <td>Action, Adventure, Shounen</td>\n",
       "      <td>ジョジョの奇妙な冒険 黄金の風</td>\n",
       "      <td>TV</td>\n",
       "      <td>39</td>\n",
       "      <td>Oct 6, 2018 to Jul 28, 2019</td>\n",
       "      <td>Warner Bros. Japan, KlockWorx, Medicos Enterta...</td>\n",
       "      <td>VIZ Media</td>\n",
       "      <td>...</td>\n",
       "      <td>0.0</td>\n",
       "      <td>0.022066</td>\n",
       "      <td>0.000000</td>\n",
       "      <td>0.0</td>\n",
       "      <td>0.327652</td>\n",
       "      <td>0.000000</td>\n",
       "      <td>0.000000</td>\n",
       "      <td>0.0</td>\n",
       "      <td>0.0</td>\n",
       "      <td>0.121932</td>\n",
       "    </tr>\n",
       "    <tr>\n",
       "      <th>1</th>\n",
       "      <td>0008e10fb39e55447333</td>\n",
       "      <td>111adb8835b8a1a2cf54</td>\n",
       "      <td>10</td>\n",
       "      <td>Action, Dementia, Demons, Horror, Supernatural</td>\n",
       "      <td>DEVILMAN crybaby</td>\n",
       "      <td>ONA</td>\n",
       "      <td>10</td>\n",
       "      <td>Jan 5, 2018</td>\n",
       "      <td>Aniplex, Dynamic Planning, Netflix</td>\n",
       "      <td>Unknown</td>\n",
       "      <td>...</td>\n",
       "      <td>0.0</td>\n",
       "      <td>0.069660</td>\n",
       "      <td>0.000000</td>\n",
       "      <td>0.0</td>\n",
       "      <td>0.114541</td>\n",
       "      <td>0.000000</td>\n",
       "      <td>0.000000</td>\n",
       "      <td>0.0</td>\n",
       "      <td>0.0</td>\n",
       "      <td>0.111935</td>\n",
       "    </tr>\n",
       "    <tr>\n",
       "      <th>2</th>\n",
       "      <td>0008e10fb39e55447333</td>\n",
       "      <td>1fc8683c393432a2f9c7</td>\n",
       "      <td>1</td>\n",
       "      <td>Hentai, Yaoi</td>\n",
       "      <td>ぼくのぴこ</td>\n",
       "      <td>OVA</td>\n",
       "      <td>1</td>\n",
       "      <td>Sep 7, 2006</td>\n",
       "      <td>Natural High</td>\n",
       "      <td>Unknown</td>\n",
       "      <td>...</td>\n",
       "      <td>0.0</td>\n",
       "      <td>0.000000</td>\n",
       "      <td>0.007423</td>\n",
       "      <td>0.0</td>\n",
       "      <td>0.000000</td>\n",
       "      <td>0.000000</td>\n",
       "      <td>0.055869</td>\n",
       "      <td>0.0</td>\n",
       "      <td>0.0</td>\n",
       "      <td>0.000000</td>\n",
       "    </tr>\n",
       "    <tr>\n",
       "      <th>3</th>\n",
       "      <td>0008e10fb39e55447333</td>\n",
       "      <td>2290175205d55e81b197</td>\n",
       "      <td>8</td>\n",
       "      <td>Action, Slice of Life, Comedy, Supernatural</td>\n",
       "      <td>モブサイコ100</td>\n",
       "      <td>TV</td>\n",
       "      <td>12</td>\n",
       "      <td>Jul 11, 2016 to Sep 27, 2016</td>\n",
       "      <td>Warner Bros. Japan, KlockWorx, BS Fuji, Hakuho...</td>\n",
       "      <td>Funimation, Crunchyroll</td>\n",
       "      <td>...</td>\n",
       "      <td>0.0</td>\n",
       "      <td>0.021200</td>\n",
       "      <td>0.000000</td>\n",
       "      <td>0.0</td>\n",
       "      <td>0.254781</td>\n",
       "      <td>0.000000</td>\n",
       "      <td>0.000000</td>\n",
       "      <td>0.0</td>\n",
       "      <td>0.0</td>\n",
       "      <td>0.219887</td>\n",
       "    </tr>\n",
       "    <tr>\n",
       "      <th>4</th>\n",
       "      <td>0008e10fb39e55447333</td>\n",
       "      <td>28f173b60331d5cabb0d</td>\n",
       "      <td>9</td>\n",
       "      <td>Comedy, Shounen, Sports</td>\n",
       "      <td>はじめの一歩 -Champion Road-</td>\n",
       "      <td>Special</td>\n",
       "      <td>1</td>\n",
       "      <td>Apr 18, 2003</td>\n",
       "      <td>Unknown</td>\n",
       "      <td>Discotek Media, Geneon Entertainment USA</td>\n",
       "      <td>...</td>\n",
       "      <td>0.0</td>\n",
       "      <td>0.000000</td>\n",
       "      <td>0.000000</td>\n",
       "      <td>0.0</td>\n",
       "      <td>0.000000</td>\n",
       "      <td>0.129102</td>\n",
       "      <td>0.000000</td>\n",
       "      <td>0.0</td>\n",
       "      <td>0.0</td>\n",
       "      <td>0.000000</td>\n",
       "    </tr>\n",
       "  </tbody>\n",
       "</table>\n",
       "<p>5 rows × 1870 columns</p>\n",
       "</div>"
      ],
      "text/plain": [
       "                user_id              anime_id  score  \\\n",
       "0  0008e10fb39e55447333  0669cc0219d468761195      2   \n",
       "1  0008e10fb39e55447333  111adb8835b8a1a2cf54     10   \n",
       "2  0008e10fb39e55447333  1fc8683c393432a2f9c7      1   \n",
       "3  0008e10fb39e55447333  2290175205d55e81b197      8   \n",
       "4  0008e10fb39e55447333  28f173b60331d5cabb0d      9   \n",
       "\n",
       "                                           genres           japanese_name  \\\n",
       "0                      Action, Adventure, Shounen         ジョジョの奇妙な冒険 黄金の風   \n",
       "1  Action, Dementia, Demons, Horror, Supernatural        DEVILMAN crybaby   \n",
       "2                                    Hentai, Yaoi                   ぼくのぴこ   \n",
       "3     Action, Slice of Life, Comedy, Supernatural                モブサイコ100   \n",
       "4                         Comedy, Shounen, Sports  はじめの一歩 -Champion Road-   \n",
       "\n",
       "      type episodes                         aired  \\\n",
       "0       TV       39   Oct 6, 2018 to Jul 28, 2019   \n",
       "1      ONA       10                   Jan 5, 2018   \n",
       "2      OVA        1                   Sep 7, 2006   \n",
       "3       TV       12  Jul 11, 2016 to Sep 27, 2016   \n",
       "4  Special        1                  Apr 18, 2003   \n",
       "\n",
       "                                           producers  \\\n",
       "0  Warner Bros. Japan, KlockWorx, Medicos Enterta...   \n",
       "1                 Aniplex, Dynamic Planning, Netflix   \n",
       "2                                       Natural High   \n",
       "3  Warner Bros. Japan, KlockWorx, BS Fuji, Hakuho...   \n",
       "4                                            Unknown   \n",
       "\n",
       "                                  licensors  ... user_ip_h_118 user_ip_h_119  \\\n",
       "0                                 VIZ Media  ...           0.0      0.022066   \n",
       "1                                   Unknown  ...           0.0      0.069660   \n",
       "2                                   Unknown  ...           0.0      0.000000   \n",
       "3                   Funimation, Crunchyroll  ...           0.0      0.021200   \n",
       "4  Discotek Media, Geneon Entertainment USA  ...           0.0      0.000000   \n",
       "\n",
       "  user_ip_h_120 user_ip_h_121  user_ip_h_122  user_ip_h_123  user_ip_h_124  \\\n",
       "0      0.000000           0.0       0.327652       0.000000       0.000000   \n",
       "1      0.000000           0.0       0.114541       0.000000       0.000000   \n",
       "2      0.007423           0.0       0.000000       0.000000       0.055869   \n",
       "3      0.000000           0.0       0.254781       0.000000       0.000000   \n",
       "4      0.000000           0.0       0.000000       0.129102       0.000000   \n",
       "\n",
       "   user_ip_h_125  user_ip_h_126  user_ip_h_127  \n",
       "0            0.0            0.0       0.121932  \n",
       "1            0.0            0.0       0.111935  \n",
       "2            0.0            0.0       0.000000  \n",
       "3            0.0            0.0       0.219887  \n",
       "4            0.0            0.0       0.000000  \n",
       "\n",
       "[5 rows x 1870 columns]"
      ]
     },
     "execution_count": 10,
     "metadata": {},
     "output_type": "execute_result"
    }
   ],
   "source": [
    "preprocess = Atmacup15Preprocess(source=train_test_anime)\n",
    "preprocess.preprocess()\n",
    "preprocess.get_procesed().head()"
   ]
  },
  {
   "cell_type": "code",
   "execution_count": 11,
   "metadata": {},
   "outputs": [],
   "source": [
    "train_processed = preprocess.get_procesed()[:len(train)].reset_index(drop=True)\n",
    "test_processed = preprocess.get_procesed()[len(train):].reset_index(drop=True)"
   ]
  },
  {
   "cell_type": "markdown",
   "metadata": {},
   "source": [
    "# Context"
   ]
  },
  {
   "cell_type": "code",
   "execution_count": 12,
   "metadata": {},
   "outputs": [],
   "source": [
    "context = Atmacup15Context(train_processed, test_processed, sample_oof, sample_submission)"
   ]
  },
  {
   "cell_type": "markdown",
   "metadata": {},
   "source": [
    "# Fold"
   ]
  },
  {
   "cell_type": "code",
   "execution_count": 13,
   "metadata": {},
   "outputs": [],
   "source": [
    "class UnknownUserKFold:\n",
    "    def __init__(self, n_splits_cv: int, n_splits_uu: int):\n",
    "        self.n_splits_cv = n_splits_cv\n",
    "        self.n_splits_uu = n_splits_uu\n",
    "\n",
    "    def split(self, X, y=None, groups=None):\n",
    "        splits_cv = KFold(n_splits=self.n_splits_cv, shuffle=True, random_state=0).split(X)\n",
    "        splits_uu = GroupKFold(n_splits=self.n_splits_uu).split(X, groups=groups)\n",
    "        for _ in range(self.n_splits_cv):\n",
    "            train_index, test_index = next(splits_cv)\n",
    "            _, uu_index = next(splits_uu)\n",
    "            train_index = np.setdiff1d(train_index, uu_index)\n",
    "            test_index = np.union1d(test_index, uu_index)\n",
    "\n",
    "            yield train_index, test_index"
   ]
  },
  {
   "cell_type": "code",
   "execution_count": 14,
   "metadata": {},
   "outputs": [
    {
     "data": {
      "text/html": [
       "<div>\n",
       "<style scoped>\n",
       "    .dataframe tbody tr th:only-of-type {\n",
       "        vertical-align: middle;\n",
       "    }\n",
       "\n",
       "    .dataframe tbody tr th {\n",
       "        vertical-align: top;\n",
       "    }\n",
       "\n",
       "    .dataframe thead th {\n",
       "        text-align: right;\n",
       "    }\n",
       "</style>\n",
       "<table border=\"1\" class=\"dataframe\">\n",
       "  <thead>\n",
       "    <tr style=\"text-align: right;\">\n",
       "      <th></th>\n",
       "      <th>fold</th>\n",
       "    </tr>\n",
       "  </thead>\n",
       "  <tbody>\n",
       "    <tr>\n",
       "      <th>0</th>\n",
       "      <td>1</td>\n",
       "    </tr>\n",
       "    <tr>\n",
       "      <th>1</th>\n",
       "      <td>2</td>\n",
       "    </tr>\n",
       "    <tr>\n",
       "      <th>2</th>\n",
       "      <td>4</td>\n",
       "    </tr>\n",
       "    <tr>\n",
       "      <th>3</th>\n",
       "      <td>1</td>\n",
       "    </tr>\n",
       "    <tr>\n",
       "      <th>4</th>\n",
       "      <td>2</td>\n",
       "    </tr>\n",
       "  </tbody>\n",
       "</table>\n",
       "</div>"
      ],
      "text/plain": [
       "   fold\n",
       "0     1\n",
       "1     2\n",
       "2     4\n",
       "3     1\n",
       "4     2"
      ]
     },
     "execution_count": 14,
     "metadata": {},
     "output_type": "execute_result"
    }
   ],
   "source": [
    "fold_df = pd.DataFrame()\n",
    "fold_df[\"fold\"] = [-1 for _ in range(len(train))]\n",
    "cv = UnknownUserKFold(n_splits_cv=5, n_splits_uu=18)\n",
    "for fold, (train_idx, valid_idx) in enumerate(cv.split(train, groups=train[\"user_id\"])):\n",
    "    fold_df.loc[valid_idx, \"fold\"] = fold\n",
    "\n",
    "assert len(fold_df[fold_df[\"fold\"] == -1]) == 0\n",
    "\n",
    "fold_df.head()"
   ]
  },
  {
   "cell_type": "code",
   "execution_count": 15,
   "metadata": {},
   "outputs": [],
   "source": [
    "cross_validator = CrossValidator(fold_df)"
   ]
  },
  {
   "cell_type": "markdown",
   "metadata": {},
   "source": [
    "# Experiment"
   ]
  },
  {
   "cell_type": "code",
   "execution_count": 16,
   "metadata": {},
   "outputs": [],
   "source": [
    "exp_conf = Atmacup15ExperimentConfig(\n",
    "    exp_name=\"lgb\",\n",
    "    version=conf.version.n,\n",
    "    n_fold=conf.n_fold,\n",
    "    seed=conf.seed,\n",
    "    cross_validator=cross_validator,\n",
    "    scoring=RMSE(),\n",
    "    file_logger=conf.file_logger,\n",
    "    std_logger=conf.logger,\n",
    "    notification=conf.notification,\n",
    "    is_debug=conf.debug\n",
    ")"
   ]
  },
  {
   "cell_type": "code",
   "execution_count": 17,
   "metadata": {},
   "outputs": [],
   "source": [
    "exp = Atmacup15Experiment(context=context, config=exp_conf, folds=[i for i in range(conf.n_fold)])"
   ]
  },
  {
   "cell_type": "code",
   "execution_count": 18,
   "metadata": {},
   "outputs": [],
   "source": [
    "if not conf.remake:\n",
    "    result = exp.run()\n",
    "else:\n",
    "    result = exp.remake()"
   ]
  },
  {
   "cell_type": "code",
   "execution_count": 19,
   "metadata": {},
   "outputs": [
    {
     "data": {
      "text/html": [
       "<div>\n",
       "<style scoped>\n",
       "    .dataframe tbody tr th:only-of-type {\n",
       "        vertical-align: middle;\n",
       "    }\n",
       "\n",
       "    .dataframe tbody tr th {\n",
       "        vertical-align: top;\n",
       "    }\n",
       "\n",
       "    .dataframe thead th {\n",
       "        text-align: right;\n",
       "    }\n",
       "</style>\n",
       "<table border=\"1\" class=\"dataframe\">\n",
       "  <thead>\n",
       "    <tr style=\"text-align: right;\">\n",
       "      <th></th>\n",
       "      <th>score</th>\n",
       "    </tr>\n",
       "  </thead>\n",
       "  <tbody>\n",
       "    <tr>\n",
       "      <th>0</th>\n",
       "      <td>7.999914</td>\n",
       "    </tr>\n",
       "    <tr>\n",
       "      <th>1</th>\n",
       "      <td>8.520075</td>\n",
       "    </tr>\n",
       "    <tr>\n",
       "      <th>2</th>\n",
       "      <td>6.399567</td>\n",
       "    </tr>\n",
       "    <tr>\n",
       "      <th>3</th>\n",
       "      <td>7.463510</td>\n",
       "    </tr>\n",
       "    <tr>\n",
       "      <th>4</th>\n",
       "      <td>4.118733</td>\n",
       "    </tr>\n",
       "  </tbody>\n",
       "</table>\n",
       "</div>"
      ],
      "text/plain": [
       "      score\n",
       "0  7.999914\n",
       "1  8.520075\n",
       "2  6.399567\n",
       "3  7.463510\n",
       "4  4.118733"
      ]
     },
     "execution_count": 19,
     "metadata": {},
     "output_type": "execute_result"
    }
   ],
   "source": [
    "result.submission_df.head()"
   ]
  },
  {
   "cell_type": "code",
   "execution_count": null,
   "metadata": {},
   "outputs": [],
   "source": []
  }
 ],
 "metadata": {
  "kernelspec": {
   "display_name": "Python 3 (ipykernel)",
   "language": "python",
   "name": "python3"
  },
  "language_info": {
   "codemirror_mode": {
    "name": "ipython",
    "version": 3
   },
   "file_extension": ".py",
   "mimetype": "text/x-python",
   "name": "python",
   "nbconvert_exporter": "python",
   "pygments_lexer": "ipython3",
   "version": "3.11.0"
  }
 },
 "nbformat": 4,
 "nbformat_minor": 4
}
